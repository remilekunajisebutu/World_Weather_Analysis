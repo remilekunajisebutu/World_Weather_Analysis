{
  "nbformat": 4,
  "nbformat_minor": 0,
  "metadata": {
    "colab": {
      "name": "Welcome To Colaboratory",
      "provenance": [],
      "collapsed_sections": [],
      "toc_visible": true,
      "include_colab_link": true
    },
    "kernelspec": {
      "display_name": "Python 3",
      "name": "python3"
    }
  },
  "cells": [
    {
      "cell_type": "markdown",
      "metadata": {
        "id": "view-in-github",
        "colab_type": "text"
      },
      "source": [
        "<a href=\"https://colab.research.google.com/github/remilekunajisebutu/World_Weather_Analysis/blob/main/weatherpy.ipynb\" target=\"_parent\"><img src=\"https://colab.research.google.com/assets/colab-badge.svg\" alt=\"Open In Colab\"/></a>"
      ]
    },
    {
      "cell_type": "code",
      "metadata": {
        "id": "ZBPdGVqHzd5B"
      },
      "source": [
        "import random\n"
      ],
      "execution_count": 1,
      "outputs": []
    },
    {
      "cell_type": "code",
      "metadata": {
        "id": "DbZ99h-5zqST",
        "outputId": "935b8cb4-9ebf-4799-f02b-fa48c972d04f",
        "colab": {
          "base_uri": "https://localhost:8080/"
        }
      },
      "source": [
        "random.randint(-90,90)\n",
        "random.random()"
      ],
      "execution_count": 5,
      "outputs": [
        {
          "output_type": "execute_result",
          "data": {
            "text/plain": [
              "0.6637275390280857"
            ]
          },
          "metadata": {
            "tags": []
          },
          "execution_count": 5
        }
      ]
    },
    {
      "cell_type": "code",
      "metadata": {
        "id": "KmXIJtbr0MI5",
        "outputId": "d7b25a95-3378-4702-d764-78a21a464639",
        "colab": {
          "base_uri": "https://localhost:8080/"
        }
      },
      "source": [
        "random_num = random.randint(-90,89) + random.random()\n",
        "random_num"
      ],
      "execution_count": 6,
      "outputs": [
        {
          "output_type": "execute_result",
          "data": {
            "text/plain": [
              "-42.04196754727476"
            ]
          },
          "metadata": {
            "tags": []
          },
          "execution_count": 6
        }
      ]
    },
    {
      "cell_type": "code",
      "metadata": {
        "id": "CaBCFVwF0vfQ",
        "outputId": "5577edda-752c-4466-91d1-7cce77b38569",
        "colab": {
          "base_uri": "https://localhost:8080/"
        }
      },
      "source": [
        "x = 1\n",
        "latitudes = []\n",
        "while x < 11:\n",
        "    random_lat = random.randint(-90, 89) + random.random()\n",
        "    latitudes.append(random_lat)\n",
        "    x += 1\n",
        "latitudes"
      ],
      "execution_count": 10,
      "outputs": [
        {
          "output_type": "execute_result",
          "data": {
            "text/plain": [
              "[84.53295209678478,\n",
              " 67.98386079590576,\n",
              " -32.087996851397456,\n",
              " 30.91292582145121,\n",
              " 39.84165935616164,\n",
              " 13.176466121011355,\n",
              " 18.051965893851257,\n",
              " -26.092643694581927,\n",
              " 80.27493348535059,\n",
              " -41.94719006175279]"
            ]
          },
          "metadata": {
            "tags": []
          },
          "execution_count": 10
        }
      ]
    },
    {
      "cell_type": "code",
      "metadata": {
        "colab": {
          "base_uri": "https://localhost:8080/"
        },
        "id": "fOJO_EAE1l7r",
        "outputId": "e076cdcf-5ba5-47e0-b53a-3a48014791a6"
      },
      "source": [
        "random.randrange(-90,90 , step=1)"
      ],
      "execution_count": 19,
      "outputs": [
        {
          "output_type": "execute_result",
          "data": {
            "text/plain": [
              "-47"
            ]
          },
          "metadata": {
            "tags": []
          },
          "execution_count": 19
        }
      ]
    },
    {
      "cell_type": "code",
      "metadata": {
        "colab": {
          "base_uri": "https://localhost:8080/"
        },
        "id": "UfIoW4zt2EQo",
        "outputId": "a7e44339-574c-4449-b393-48746e74c9ea"
      },
      "source": [
        "random.randrange(-90,90 , step=3)"
      ],
      "execution_count": 20,
      "outputs": [
        {
          "output_type": "execute_result",
          "data": {
            "text/plain": [
              "-9"
            ]
          },
          "metadata": {
            "tags": []
          },
          "execution_count": 20
        }
      ]
    },
    {
      "cell_type": "code",
      "metadata": {
        "id": "_8b8WjpJ2TxK",
        "outputId": "80427b60-2bd1-4d1d-cd4d-06f41b7b4e52",
        "colab": {
          "base_uri": "https://localhost:8080/"
        }
      },
      "source": [
        "random.uniform(-90,90)"
      ],
      "execution_count": 21,
      "outputs": [
        {
          "output_type": "execute_result",
          "data": {
            "text/plain": [
              "53.51892333488371"
            ]
          },
          "metadata": {
            "tags": []
          },
          "execution_count": 21
        }
      ]
    },
    {
      "cell_type": "code",
      "metadata": {
        "id": "XuuJGrni2mRW"
      },
      "source": [
        "import numpy as np\n"
      ],
      "execution_count": 22,
      "outputs": []
    },
    {
      "cell_type": "code",
      "metadata": {
        "id": "jifsmd-m2qYe",
        "outputId": "a45be572-756c-498d-f52c-85e0ff2517d7",
        "colab": {
          "base_uri": "https://localhost:8080/"
        }
      },
      "source": [
        "np.random.uniform(-90.000, 90.000, size = 1500)"
      ],
      "execution_count": 26,
      "outputs": [
        {
          "output_type": "execute_result",
          "data": {
            "text/plain": [
              "array([-24.44613198,  62.39001844,  49.17562381, ..., -38.79277243,\n",
              "       -44.4215435 ,  34.44313355])"
            ]
          },
          "metadata": {
            "tags": []
          },
          "execution_count": 26
        }
      ]
    },
    {
      "cell_type": "code",
      "metadata": {
        "id": "SodJYdSV222e",
        "outputId": "68f812b4-fc54-400a-b4d9-5a3a88efaf36",
        "colab": {
          "base_uri": "https://localhost:8080/"
        }
      },
      "source": [
        "np.random.uniform(low=-90, high =90, size = 2)"
      ],
      "execution_count": 25,
      "outputs": [
        {
          "output_type": "execute_result",
          "data": {
            "text/plain": [
              "array([-55.42696526, -27.33121889])"
            ]
          },
          "metadata": {
            "tags": []
          },
          "execution_count": 25
        }
      ]
    },
    {
      "cell_type": "code",
      "metadata": {
        "id": "upytGOMO3Z8i"
      },
      "source": [
        "import timeit"
      ],
      "execution_count": 27,
      "outputs": []
    },
    {
      "cell_type": "code",
      "metadata": {
        "id": "NSXTjcPx7Unu",
        "outputId": "5e06a0fc-4aa7-4aa7-acaa-fcd284f350c6",
        "colab": {
          "base_uri": "https://localhost:8080/"
        }
      },
      "source": [
        "%timeit np.random.uniform(-90.000, 90.000, size=1500)\n"
      ],
      "execution_count": 30,
      "outputs": [
        {
          "output_type": "stream",
          "text": [
            "The slowest run took 5.33 times longer than the fastest. This could mean that an intermediate result is being cached.\n",
            "100000 loops, best of 5: 17.6 µs per loop\n"
          ],
          "name": "stdout"
        }
      ]
    },
    {
      "cell_type": "code",
      "metadata": {
        "id": "LHDJ_FbN71SK",
        "outputId": "db1ad4e2-6397-4da6-a3c0-d3cba55458f1",
        "colab": {
          "base_uri": "https://localhost:8080/"
        }
      },
      "source": [
        "def latitudes(size):\n",
        "    latitudes = []\n",
        "    x = 0\n",
        "    while x < (size):\n",
        "        random_lat = random.randint(-90, 90) + random.random()\n",
        "        latitudes.append(random_lat)\n",
        "        x += 1\n",
        "    return latitudes\n",
        "# Call the function with 1500.\n",
        "%timeit latitudes(1500)"
      ],
      "execution_count": 31,
      "outputs": [
        {
          "output_type": "stream",
          "text": [
            "100 loops, best of 5: 2.48 ms per loop\n"
          ],
          "name": "stdout"
        }
      ]
    },
    {
      "cell_type": "code",
      "metadata": {
        "id": "aA0Nmo2LAIvv"
      },
      "source": [
        "import pandas as pd\n",
        "import matplotlib.pyplot as plt\n",
        "import numpy as np"
      ],
      "execution_count": 33,
      "outputs": []
    },
    {
      "cell_type": "code",
      "metadata": {
        "id": "cVXVTpz3Am_e",
        "outputId": "5859474a-a27a-45cc-c4cf-fce67faff266",
        "colab": {
          "base_uri": "https://localhost:8080/"
        }
      },
      "source": [
        "# Create a set of random latitude and longitude combinations.\n",
        "lats = np.random.uniform(low=-90.000, high=90.000, size=1500)\n",
        "lngs = np.random.uniform(low=-180.000, high=180.000, size=1500)\n",
        "lat_lngs = zip(lats, lngs)\n",
        "lat_lngs"
      ],
      "execution_count": 34,
      "outputs": [
        {
          "output_type": "execute_result",
          "data": {
            "text/plain": [
              "<zip at 0x7f8448155e60>"
            ]
          },
          "metadata": {
            "tags": []
          },
          "execution_count": 34
        }
      ]
    },
    {
      "cell_type": "code",
      "metadata": {
        "id": "3GvYt0d3AwqC"
      },
      "source": [
        "# Create a practice set of random latitude and longitude combinations.\n",
        "x = [25.12903645, 25.92017388, 26.62509167, -59.98969384, 37.30571269]\n",
        "y = [-67.59741259, 11.09532135, 74.84233102, -76.89176677, -61.13376282]\n",
        "coordinates = zip(x, y)"
      ],
      "execution_count": 35,
      "outputs": []
    },
    {
      "cell_type": "code",
      "metadata": {
        "id": "EKRBfpDGA2h-",
        "outputId": "4c8aac23-2bd1-4722-e39b-b2bb08cb8b3d",
        "colab": {
          "base_uri": "https://localhost:8080/"
        }
      },
      "source": [
        "# Use the tuple() function to display the latitude and longitude combinations.\n",
        "for coordinate in coordinates:\n",
        "    print(coordinate[0], coordinate[1])"
      ],
      "execution_count": 36,
      "outputs": [
        {
          "output_type": "stream",
          "text": [
            "25.12903645 -67.59741259\n",
            "25.92017388 11.09532135\n",
            "26.62509167 74.84233102\n",
            "-59.98969384 -76.89176677\n",
            "37.30571269 -61.13376282\n"
          ],
          "name": "stdout"
        }
      ]
    },
    {
      "cell_type": "code",
      "metadata": {
        "id": "pGKY1kPyBHjL"
      },
      "source": [
        "# Add the latitudes and longitudes to a list.\n",
        "coordinates = list(lat_lngs)"
      ],
      "execution_count": 37,
      "outputs": []
    },
    {
      "cell_type": "code",
      "metadata": {
        "id": "cx4XY3xUBhK4",
        "outputId": "a2dd3a4b-58e6-409f-a246-9149e0a01433",
        "colab": {
          "base_uri": "https://localhost:8080/"
        }
      },
      "source": [
        "pip install citipy"
      ],
      "execution_count": 38,
      "outputs": [
        {
          "output_type": "stream",
          "text": [
            "Collecting citipy\n",
            "  Downloading citipy-0.0.5.tar.gz (557 kB)\n",
            "\u001b[?25l\r\u001b[K     |▋                               | 10 kB 23.2 MB/s eta 0:00:01\r\u001b[K     |█▏                              | 20 kB 25.3 MB/s eta 0:00:01\r\u001b[K     |█▊                              | 30 kB 13.2 MB/s eta 0:00:01\r\u001b[K     |██▍                             | 40 kB 10.0 MB/s eta 0:00:01\r\u001b[K     |███                             | 51 kB 5.2 MB/s eta 0:00:01\r\u001b[K     |███▌                            | 61 kB 5.3 MB/s eta 0:00:01\r\u001b[K     |████▏                           | 71 kB 6.0 MB/s eta 0:00:01\r\u001b[K     |████▊                           | 81 kB 6.7 MB/s eta 0:00:01\r\u001b[K     |█████▎                          | 92 kB 6.7 MB/s eta 0:00:01\r\u001b[K     |█████▉                          | 102 kB 5.4 MB/s eta 0:00:01\r\u001b[K     |██████▌                         | 112 kB 5.4 MB/s eta 0:00:01\r\u001b[K     |███████                         | 122 kB 5.4 MB/s eta 0:00:01\r\u001b[K     |███████▋                        | 133 kB 5.4 MB/s eta 0:00:01\r\u001b[K     |████████▎                       | 143 kB 5.4 MB/s eta 0:00:01\r\u001b[K     |████████▉                       | 153 kB 5.4 MB/s eta 0:00:01\r\u001b[K     |█████████▍                      | 163 kB 5.4 MB/s eta 0:00:01\r\u001b[K     |██████████                      | 174 kB 5.4 MB/s eta 0:00:01\r\u001b[K     |██████████▋                     | 184 kB 5.4 MB/s eta 0:00:01\r\u001b[K     |███████████▏                    | 194 kB 5.4 MB/s eta 0:00:01\r\u001b[K     |███████████▊                    | 204 kB 5.4 MB/s eta 0:00:01\r\u001b[K     |████████████▍                   | 215 kB 5.4 MB/s eta 0:00:01\r\u001b[K     |█████████████                   | 225 kB 5.4 MB/s eta 0:00:01\r\u001b[K     |█████████████▌                  | 235 kB 5.4 MB/s eta 0:00:01\r\u001b[K     |██████████████                  | 245 kB 5.4 MB/s eta 0:00:01\r\u001b[K     |██████████████▊                 | 256 kB 5.4 MB/s eta 0:00:01\r\u001b[K     |███████████████▎                | 266 kB 5.4 MB/s eta 0:00:01\r\u001b[K     |███████████████▉                | 276 kB 5.4 MB/s eta 0:00:01\r\u001b[K     |████████████████▌               | 286 kB 5.4 MB/s eta 0:00:01\r\u001b[K     |█████████████████               | 296 kB 5.4 MB/s eta 0:00:01\r\u001b[K     |█████████████████▋              | 307 kB 5.4 MB/s eta 0:00:01\r\u001b[K     |██████████████████▏             | 317 kB 5.4 MB/s eta 0:00:01\r\u001b[K     |██████████████████▉             | 327 kB 5.4 MB/s eta 0:00:01\r\u001b[K     |███████████████████▍            | 337 kB 5.4 MB/s eta 0:00:01\r\u001b[K     |████████████████████            | 348 kB 5.4 MB/s eta 0:00:01\r\u001b[K     |████████████████████▋           | 358 kB 5.4 MB/s eta 0:00:01\r\u001b[K     |█████████████████████▏          | 368 kB 5.4 MB/s eta 0:00:01\r\u001b[K     |█████████████████████▊          | 378 kB 5.4 MB/s eta 0:00:01\r\u001b[K     |██████████████████████▎         | 389 kB 5.4 MB/s eta 0:00:01\r\u001b[K     |███████████████████████         | 399 kB 5.4 MB/s eta 0:00:01\r\u001b[K     |███████████████████████▌        | 409 kB 5.4 MB/s eta 0:00:01\r\u001b[K     |████████████████████████        | 419 kB 5.4 MB/s eta 0:00:01\r\u001b[K     |████████████████████████▊       | 430 kB 5.4 MB/s eta 0:00:01\r\u001b[K     |█████████████████████████▎      | 440 kB 5.4 MB/s eta 0:00:01\r\u001b[K     |█████████████████████████▉      | 450 kB 5.4 MB/s eta 0:00:01\r\u001b[K     |██████████████████████████▍     | 460 kB 5.4 MB/s eta 0:00:01\r\u001b[K     |███████████████████████████     | 471 kB 5.4 MB/s eta 0:00:01\r\u001b[K     |███████████████████████████▋    | 481 kB 5.4 MB/s eta 0:00:01\r\u001b[K     |████████████████████████████▏   | 491 kB 5.4 MB/s eta 0:00:01\r\u001b[K     |████████████████████████████▉   | 501 kB 5.4 MB/s eta 0:00:01\r\u001b[K     |█████████████████████████████▍  | 512 kB 5.4 MB/s eta 0:00:01\r\u001b[K     |██████████████████████████████  | 522 kB 5.4 MB/s eta 0:00:01\r\u001b[K     |██████████████████████████████▌ | 532 kB 5.4 MB/s eta 0:00:01\r\u001b[K     |███████████████████████████████▏| 542 kB 5.4 MB/s eta 0:00:01\r\u001b[K     |███████████████████████████████▊| 552 kB 5.4 MB/s eta 0:00:01\r\u001b[K     |████████████████████████████████| 557 kB 5.4 MB/s \n",
            "\u001b[?25hCollecting kdtree>=0.12\n",
            "  Downloading kdtree-0.16-py2.py3-none-any.whl (7.7 kB)\n",
            "Building wheels for collected packages: citipy\n",
            "  Building wheel for citipy (setup.py) ... \u001b[?25l\u001b[?25hdone\n",
            "  Created wheel for citipy: filename=citipy-0.0.5-py3-none-any.whl size=559700 sha256=096640d637be92e40b3e60b402c1f900f0462c4f65536bc23abe7537db37ba46\n",
            "  Stored in directory: /root/.cache/pip/wheels/72/ae/63/5d03cf6dfe5c0e9328fb73f8b30da1948a06b9cceaf2c68d2d\n",
            "Successfully built citipy\n",
            "Installing collected packages: kdtree, citipy\n",
            "Successfully installed citipy-0.0.5 kdtree-0.16\n"
          ],
          "name": "stdout"
        }
      ]
    }
  ]
}